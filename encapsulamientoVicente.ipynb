{
 "cells": [
  {
   "cell_type": "code",
   "execution_count": 3,
   "metadata": {},
   "outputs": [
    {
     "name": "stdout",
     "output_type": "stream",
     "text": [
      "Nombre del empleado: Juan\n",
      "Salario del empleado: 3000\n",
      "Nuevo nombre del empleado: Pedro\n",
      "Nuevo salario del empleado: 3500\n"
     ]
    }
   ],
   "source": [
    "class Empleado:\n",
    "    def __init__(self, nombre, salario):\n",
    "        self.__nombre = nombre  \n",
    "        self.__salario = salario \n",
    "    \n",
    "   \n",
    "    def get_nombre(self):\n",
    "        return self.__nombre\n",
    "    \n",
    "    def get_salario(self):\n",
    "        return self.__salario\n",
    "    \n",
    "\n",
    "    def set_nombre(self, nombre):\n",
    "        self.__nombre = nombre\n",
    "    \n",
    "    def set_salario(self, salario):\n",
    "        if salario > 0:\n",
    "            self.__salario = salario\n",
    "        else:\n",
    "            print(\"El salario debe ser un valor positivo.\")\n",
    "\n",
    "\n",
    "empleado1 = Empleado(\"Juan\", 3000)\n",
    "\n",
    "\n",
    "print(\"Nombre del empleado:\", empleado1.get_nombre())\n",
    "print(\"Salario del empleado:\", empleado1.get_salario())\n",
    "\n",
    "\n",
    "empleado1.set_nombre(\"Pedro\")\n",
    "empleado1.set_salario(3500)\n",
    "\n",
    "\n",
    "print(\"Nuevo nombre del empleado:\", empleado1.get_nombre())\n",
    "print(\"Nuevo salario del empleado:\", empleado1.get_salario())\n"
   ]
  }
 ],
 "metadata": {
  "kernelspec": {
   "display_name": "Python 3",
   "language": "python",
   "name": "python3"
  },
  "language_info": {
   "codemirror_mode": {
    "name": "ipython",
    "version": 3
   },
   "file_extension": ".py",
   "mimetype": "text/x-python",
   "name": "python",
   "nbconvert_exporter": "python",
   "pygments_lexer": "ipython3",
   "version": "3.11.9"
  }
 },
 "nbformat": 4,
 "nbformat_minor": 2
}
