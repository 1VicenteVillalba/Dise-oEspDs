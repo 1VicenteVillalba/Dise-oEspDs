{
 "cells": [
  {
   "cell_type": "code",
   "execution_count": 2,
   "metadata": {},
   "outputs": [
    {
     "name": "stdout",
     "output_type": "stream",
     "text": [
      "Área del cuadrado: 25\n",
      "Área del círculo: 28.27431\n"
     ]
    }
   ],
   "source": [
    "class Figura:\n",
    "    def __init__(self, color):\n",
    "        self.color = color\n",
    "\n",
    "    def area(self):\n",
    "        pass\n",
    "\n",
    "class Cuadrado(Figura):\n",
    "    def __init__(self, color, lado):\n",
    "        super().__init__(color)\n",
    "        self.lado = lado\n",
    "\n",
    "    def area(self):\n",
    "        return self.lado ** 2\n",
    "\n",
    "class Circulo(Figura):\n",
    "    def __init__(self, color, radio):\n",
    "        super().__init__(color)\n",
    "        self.radio = radio\n",
    "\n",
    "    def area(self):\n",
    "        return 3.14159 * self.radio ** 2\n",
    "\n",
    "# Uso de las clases\n",
    "mi_cuadrado = Cuadrado(\"Rojo\", 5)\n",
    "mi_circulo = Circulo(\"Azul\", 3)\n",
    "\n",
    "print(\"Área del cuadrado:\", mi_cuadrado.area())\n",
    "print(\"Área del círculo:\", mi_circulo.area())\n"
   ]
  }
 ],
 "metadata": {
  "kernelspec": {
   "display_name": "venv",
   "language": "python",
   "name": "python3"
  },
  "language_info": {
   "codemirror_mode": {
    "name": "ipython",
    "version": 3
   },
   "file_extension": ".py",
   "mimetype": "text/x-python",
   "name": "python",
   "nbconvert_exporter": "python",
   "pygments_lexer": "ipython3",
   "version": "3.7.1"
  }
 },
 "nbformat": 4,
 "nbformat_minor": 2
}
