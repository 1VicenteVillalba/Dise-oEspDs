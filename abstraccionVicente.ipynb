{
 "cells": [
  {
   "cell_type": "code",
   "execution_count": 3,
   "metadata": {},
   "outputs": [],
   "source": [
    "class ArriendoApartamento:\n",
    "    def __init__(self, numero_habitaciones: int,numero_banos: int, numero_pisos: int, numero_albercas: int, numero_cocinas: int,) -> None:\n",
    "        self.numero_habitaciones = numero_habitaciones\n",
    "        self.numero_banos = numero_banos\n",
    "        self.numero_pisos = numero_pisos\n",
    "        self.numero_albercas = numero_albercas\n",
    "        self.numero_cocinas = numero_cocinas\n",
    "\n",
    "    def apar(self) -> None:\n",
    "        print(f\"El numero de habitacines es {self.numero_habitaciones} #h\")\n",
    "\n",
    "    def __str__(self) -> str:\n",
    "        return f\"{self.numero_habitaciones} #h, {self.numero_banos} #b, {self.numero_pisos}#pi, {self.numero_albercas}#alb, {self.numero_cocinas}#coc\""
   ]
  },
  {
   "cell_type": "code",
   "execution_count": 4,
   "metadata": {},
   "outputs": [
    {
     "name": "stdout",
     "output_type": "stream",
     "text": [
      "6 #h, 6 #b, 2#pi, 1#alb, 2#coc\n",
      "El numero de habitacines es 6 #h\n"
     ]
    }
   ],
   "source": [
    "arriendo_apartamento = ArriendoApartamento(numero_habitaciones=6, numero_banos=6, numero_pisos=2, numero_albercas=1, numero_cocinas=2)\n",
    "print(arriendo_apartamento)\n",
    "arriendo_apartamento.apar()\n"
   ]
  },
  {
   "cell_type": "code",
   "execution_count": 5,
   "metadata": {},
   "outputs": [],
   "source": [
    "class ArriendoApartamento:\n",
    "    def __init__(self, apartment: int) -> None:\n",
    "        self.apartment = apartment\n",
    "\n",
    "    def reserve_apartament(self, apartment_number: int) -> None:\n",
    "        print(f\"apartment number {apartment_number} is reserved\")\n",
    "\n",
    "    def __str__(self) -> str:\n",
    "        return f\"{self.apartment} apart\""
   ]
  },
  {
   "cell_type": "code",
   "execution_count": 6,
   "metadata": {},
   "outputs": [
    {
     "name": "stdout",
     "output_type": "stream",
     "text": [
      "20 apart\n",
      "apartment number 11 is reserved\n"
     ]
    }
   ],
   "source": [
    "arriendo_apartamento = ArriendoApartamento(apartment=20)\n",
    "print(arriendo_apartamento)\n",
    "arriendo_apartamento.reserve_apartament(11)"
   ]
  }
 ],
 "metadata": {
  "kernelspec": {
   "display_name": "venv",
   "language": "python",
   "name": "python3"
  },
  "language_info": {
   "codemirror_mode": {
    "name": "ipython",
    "version": 3
   },
   "file_extension": ".py",
   "mimetype": "text/x-python",
   "name": "python",
   "nbconvert_exporter": "python",
   "pygments_lexer": "ipython3",
   "version": "3.7.1"
  }
 },
 "nbformat": 4,
 "nbformat_minor": 2
}
