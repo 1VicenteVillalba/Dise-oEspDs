{
 "cells": [
  {
   "cell_type": "code",
   "execution_count": 3,
   "metadata": {},
   "outputs": [
    {
     "name": "stdout",
     "output_type": "stream",
     "text": [
      "Publicando en Facebook: '¡Hola desde Facebook!'\n",
      "Publicando en Twitter: '¡Hola desde Twitter!'\n",
      "Publicando en Instagram: '¡Hola desde Instagram!'\n",
      "Publicando en LinkedIn: '¡Hola desde LinkedIn!'\n"
     ]
    }
   ],
   "source": [
    "class RedSocial:\n",
    "    def publicar(self, contenido):\n",
    "        pass\n",
    "\n",
    "class Facebook(RedSocial):\n",
    "    def publicar(self, contenido):\n",
    "        return f\"Publicando en Facebook: '{contenido}'\"\n",
    "\n",
    "class Twitter(RedSocial):\n",
    "    def publicar(self, contenido):\n",
    "        return f\"Publicando en Twitter: '{contenido}'\"\n",
    "\n",
    "class Instagram(RedSocial):\n",
    "    def publicar(self, contenido):\n",
    "        return f\"Publicando en Instagram: '{contenido}'\"\n",
    "\n",
    "class LinkedIn(RedSocial):\n",
    "    def publicar(self, contenido):\n",
    "        return f\"Publicando en LinkedIn: '{contenido}'\"\n",
    "\n",
    "\n",
    "def publicar_en_red_social(red_social, contenido):\n",
    "    print(red_social.publicar(contenido))\n",
    "\n",
    "\n",
    "facebook = Facebook()\n",
    "twitter = Twitter()\n",
    "instagram = Instagram()\n",
    "linkedin = LinkedIn()\n",
    "\n",
    "\n",
    "publicar_en_red_social(facebook, \"¡Hola desde Facebook!\")\n",
    "publicar_en_red_social(twitter, \"¡Hola desde Twitter!\")\n",
    "publicar_en_red_social(instagram, \"¡Hola desde Instagram!\")\n",
    "publicar_en_red_social(linkedin, \"¡Hola desde LinkedIn!\")\n"
   ]
  }
 ],
 "metadata": {
  "kernelspec": {
   "display_name": "Python 3",
   "language": "python",
   "name": "python3"
  },
  "language_info": {
   "codemirror_mode": {
    "name": "ipython",
    "version": 3
   },
   "file_extension": ".py",
   "mimetype": "text/x-python",
   "name": "python",
   "nbconvert_exporter": "python",
   "pygments_lexer": "ipython3",
   "version": "3.11.9"
  }
 },
 "nbformat": 4,
 "nbformat_minor": 2
}
